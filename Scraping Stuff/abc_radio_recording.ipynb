{
  "nbformat": 4,
  "nbformat_minor": 0,
  "metadata": {
    "colab": {
      "private_outputs": true,
      "provenance": []
    },
    "kernelspec": {
      "name": "python3",
      "display_name": "Python 3"
    },
    "language_info": {
      "name": "python"
    }
  },
  "cells": [
    {
      "cell_type": "markdown",
      "source": [
        "# ABC Radio Recording\n",
        "\n",
        "This notebook kicks off recording of an ABC radio stream, using `ffmpeg` on the embedded m3u8 stream from the webpage."
      ],
      "metadata": {
        "id": "vUXXEmZKsPRd"
      }
    },
    {
      "cell_type": "code",
      "execution_count": null,
      "metadata": {
        "id": "kNaPmE8msOhJ"
      },
      "outputs": [],
      "source": [
        "# first, some environment setup (colab already has most of these installed)\n",
        "! pip install beautifulsoup4 m3u8 requests\n",
        "! apt install ffmpeg\n",
        "# now, some actual python"
      ]
    },
    {
      "cell_type": "code",
      "source": [
        "import bs4, json, m3u8, requests, subprocess\n",
        "from time import gmtime, strftime"
      ],
      "metadata": {
        "id": "n91Y__iPsiRs"
      },
      "execution_count": null,
      "outputs": []
    },
    {
      "cell_type": "code",
      "source": [
        "# the ABC Radio webpage for the channel we want to record (ABC Hobart)\n",
        "STATION_URL = 'https://www.abc.net.au/listen/live/hobart'\n",
        "\n",
        "# the duration of the recording we want to capture, in seconds\n",
        "DURATION_MINUTES = 30"
      ],
      "metadata": {
        "id": "Kmdm8KWgsjeN"
      },
      "execution_count": null,
      "outputs": []
    },
    {
      "cell_type": "code",
      "source": [
        "# use the station page to get the stream data\n",
        "page_response = requests.get(STATION_URL)\n",
        "page_response.raise_for_status() # throw an error if that didn't work"
      ],
      "metadata": {
        "id": "-uijZCaIsnzu"
      },
      "execution_count": null,
      "outputs": []
    },
    {
      "cell_type": "code",
      "source": [
        "# scrape this page for the stream data json\n",
        "page_content = bs4.BeautifulSoup(page_response.content)\n",
        "data = page_content.find('script', { 'id':'__NEXT_DATA__' }).text\n",
        "data_json = json.loads(data)"
      ],
      "metadata": {
        "id": "DPUzToeespUX"
      },
      "execution_count": null,
      "outputs": []
    },
    {
      "cell_type": "code",
      "source": [
        "# now let's dive into this json to get the url for the m3u8 stream data\n",
        "index_url = data_json[\"props\"][\"pageProps\"][\"data\"][\"componentsContent\"][0][\"componentProps\"][\"config\"][\"sources\"][0][\"file\"]\n",
        "# and then fetch from that url too\n",
        "index_response = requests.get(index_url)\n",
        "index_response.raise_for_status() # throw an error if that didn't work"
      ],
      "metadata": {
        "id": "IV9iKt0Bsq8A"
      },
      "execution_count": null,
      "outputs": []
    },
    {
      "cell_type": "code",
      "source": [
        "# now to decode it out of binary and then interpret as m3u8 playlist metadata\n",
        "index_data = index_response.content.decode()\n",
        "playlist_metadata = m3u8.loads(index_data)\n",
        "# get the playlist therein with the highest bitrate\n",
        "playlist = max(playlist_metadata.playlists, key=lambda x: x.stream_info.bandwidth)\n",
        "playlist_uri = playlist.absolute_uri\n",
        "playlist_uri"
      ],
      "metadata": {
        "id": "CTYywgvkssah"
      },
      "execution_count": null,
      "outputs": []
    },
    {
      "cell_type": "code",
      "source": [
        "# now to decide on a filename to write to\n",
        "outfile = 'abchobart_' + strftime(\"%Y%m%d_%H%M%S\", gmtime()) + '.wav'\n",
        "# and construct the command to send to ffmpeg\n",
        "command = f\"ffmpeg -y -t {round(DURATION_MINUTES * 60.0)} -i {playlist_uri} {outfile}\"\n",
        "# and then run it\n",
        "subprocess.run(command, shell=True)"
      ],
      "metadata": {
        "id": "12s0risds0dK"
      },
      "execution_count": null,
      "outputs": []
    }
  ]
}