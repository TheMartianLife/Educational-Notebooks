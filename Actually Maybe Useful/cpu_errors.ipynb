{
  "cells": [
    {
      "cell_type": "markdown",
      "metadata": {
        "id": "ZNywShFBZAhA"
      },
      "source": [
        "# Flaky Tests\n",
        "\n",
        "Flaky refers to tests which can be run multiple times with the same input and conditions and yield different results. An example below shows a random number function that will output a number from zero to ***n* (inclusive)** but a test written for it that assumes zero to ***n* (exclusive)**.\n",
        "\n",
        "This will fail an average of one in every *n* times, but a test suite is likely to run it just once. And statistically, it is likely to pass that once."
      ]
    },
    {
      "cell_type": "code",
      "execution_count": null,
      "metadata": {
        "id": "hO1RrNOJZqEu"
      },
      "outputs": [],
      "source": [
        "from random import randint\n",
        "\n",
        "def f(x):\n",
        "    random = randint(0, x)\n",
        "    # print selection so we can see it\n",
        "    print(f\"f({x}) = {random}\")\n",
        "    return random\n",
        "\n",
        "def test():\n",
        "    n = 10\n",
        "    assert(f(n) < n)"
      ]
    },
    {
      "cell_type": "code",
      "execution_count": null,
      "metadata": {
        "colab": {
          "base_uri": "https://localhost:8080/"
        },
        "id": "Femo94TWZ06r",
        "outputId": "b7974ede-0cfa-4d8c-c640-d6c3d80a0779"
      },
      "outputs": [
        {
          "name": "stdout",
          "output_type": "stream",
          "text": [
            "f(10) = 2\n"
          ]
        }
      ],
      "source": [
        "test()"
      ]
    },
    {
      "cell_type": "code",
      "execution_count": null,
      "metadata": {
        "colab": {
          "base_uri": "https://localhost:8080/",
          "height": 494
        },
        "id": "0sQGFu2ma6QA",
        "outputId": "3f4fe7bd-424f-4bef-ef84-bd01e2e07537"
      },
      "outputs": [
        {
          "name": "stdout",
          "output_type": "stream",
          "text": [
            "f(10) = 2\n",
            "f(10) = 7\n",
            "f(10) = 2\n",
            "f(10) = 6\n",
            "f(10) = 4\n",
            "f(10) = 2\n",
            "f(10) = 3\n",
            "f(10) = 3\n",
            "f(10) = 4\n",
            "f(10) = 4\n",
            "f(10) = 7\n",
            "f(10) = 10\n"
          ]
        },
        {
          "ename": "AssertionError",
          "evalue": "ignored",
          "output_type": "error",
          "traceback": [
            "\u001b[0;31m---------------------------------------------------------------------------\u001b[0m",
            "\u001b[0;31mAssertionError\u001b[0m                            Traceback (most recent call last)",
            "\u001b[0;32m<ipython-input-3-576e627914dc>\u001b[0m in \u001b[0;36m<module>\u001b[0;34m()\u001b[0m\n\u001b[1;32m      1\u001b[0m \u001b[0;32mfor\u001b[0m \u001b[0m_\u001b[0m \u001b[0;32min\u001b[0m \u001b[0mrange\u001b[0m\u001b[0;34m(\u001b[0m\u001b[0;36m15\u001b[0m\u001b[0;34m)\u001b[0m\u001b[0;34m:\u001b[0m\u001b[0;34m\u001b[0m\u001b[0;34m\u001b[0m\u001b[0m\n\u001b[0;32m----> 2\u001b[0;31m     \u001b[0mtest\u001b[0m\u001b[0;34m(\u001b[0m\u001b[0;34m)\u001b[0m\u001b[0;34m\u001b[0m\u001b[0;34m\u001b[0m\u001b[0m\n\u001b[0m\u001b[1;32m      3\u001b[0m \u001b[0;31m# run this cell until you get an Error\u001b[0m\u001b[0;34m\u001b[0m\u001b[0;34m\u001b[0m\u001b[0;34m\u001b[0m\u001b[0m\n",
            "\u001b[0;32m<ipython-input-1-930abe8e8b1e>\u001b[0m in \u001b[0;36mtest\u001b[0;34m()\u001b[0m\n\u001b[1;32m      9\u001b[0m \u001b[0;32mdef\u001b[0m \u001b[0mtest\u001b[0m\u001b[0;34m(\u001b[0m\u001b[0;34m)\u001b[0m\u001b[0;34m:\u001b[0m\u001b[0;34m\u001b[0m\u001b[0;34m\u001b[0m\u001b[0m\n\u001b[1;32m     10\u001b[0m     \u001b[0mn\u001b[0m \u001b[0;34m=\u001b[0m \u001b[0;36m10\u001b[0m\u001b[0;34m\u001b[0m\u001b[0;34m\u001b[0m\u001b[0m\n\u001b[0;32m---> 11\u001b[0;31m     \u001b[0;32massert\u001b[0m\u001b[0;34m(\u001b[0m\u001b[0mf\u001b[0m\u001b[0;34m(\u001b[0m\u001b[0mn\u001b[0m\u001b[0;34m)\u001b[0m \u001b[0;34m<\u001b[0m \u001b[0mn\u001b[0m\u001b[0;34m)\u001b[0m\u001b[0;34m\u001b[0m\u001b[0;34m\u001b[0m\u001b[0m\n\u001b[0m",
            "\u001b[0;31mAssertionError\u001b[0m: "
          ]
        }
      ],
      "source": [
        "for _ in range(15):\n",
        "    test()\n",
        "# run this cell until you get an Error"
      ]
    },
    {
      "cell_type": "markdown",
      "metadata": {
        "id": "pnTXp4MiVXnk"
      },
      "source": [
        "# Compound Instructions\n",
        "\n",
        "What many would regard as a single line of code or a single operation is often several to a CPU. Here, some Python code emulates some basic CPU instructions to demonstrate a hypothetical process for the sequence:\n",
        "\n",
        "```python\n",
        "b = 1\n",
        "c = 2\n",
        "a = b + c\n",
        "print(a)\n",
        "```\n",
        "\n",
        "**Note** all the places where incorrect input or memory state can cause this to crash, as these are all the tasks that would require large amounts of monitoring and error handling and memory management code."
      ]
    },
    {
      "cell_type": "code",
      "execution_count": null,
      "metadata": {
        "id": "oOyQx472L7P2"
      },
      "outputs": [],
      "source": [
        "store = [None, None, None, None] # memory storage\n",
        "lookup = {} # lookup table for memory locations\n",
        "A, B, C = ('a', 'b', 'c') # strings for variable name literals\n",
        "\n",
        "# LOOKUP finds the entry with the name `variable` in the lookup table\n",
        "# and crashes if it doesn't exist\n",
        "def LOOKUP(variable):\n",
        "    return lookup[variable]\n",
        "\n",
        "\n",
        "# GET retrieves the value at the location `address` in memory, regardless\n",
        "# of whether it is the type you expect or interpreted correctly or\n",
        "# malformed, and crashes if that memory location is inaccessible\n",
        "def GET(address):\n",
        "    return store[address]\n",
        "\n",
        "\n",
        "# SET sets the value of the location `address` in memory, regardless of\n",
        "# whether it has been entered in the lookup table so it can be ever found again\n",
        "# and will malform other parts of memory if this new value requires more bits\n",
        "# than the old one\n",
        "def SET(address, value):\n",
        "    store[address] = value\n",
        "\n",
        "\n",
        "# CREATE finds the next empty location in memory, registers a new entry named\n",
        "# `variable` in the lookup table that references this location,\n",
        "# and crashes if there are no empty locations of suitable size\n",
        "def CREATE(variable):\n",
        "    free_location = None\n",
        "    for location, contents in enumerate(store):\n",
        "        if contents is None:\n",
        "            free_location = location\n",
        "            break\n",
        "    lookup[variable] = free_location\n",
        "\n",
        "\n",
        "# SUM adds two raw values together, and crashes if they are non-numeric or\n",
        "# non-matching types\n",
        "def SUM(a, b):\n",
        "    return a + b\n",
        "\n",
        "\n",
        "# SHOW displays a value on screen, and crashes if it cannot be coerced into\n",
        "# a string representation\n",
        "def SHOW(var):\n",
        "    print(var)"
      ]
    },
    {
      "cell_type": "code",
      "execution_count": null,
      "metadata": {
        "colab": {
          "base_uri": "https://localhost:8080/"
        },
        "id": "oBNc10IubXyE",
        "outputId": "0545b0b0-a4d3-4b6e-9751-f5b71a0d33f7"
      },
      "outputs": [
        {
          "name": "stdout",
          "output_type": "stream",
          "text": [
            "3\n"
          ]
        }
      ],
      "source": [
        "# b = 1\n",
        "CREATE(B)\n",
        "SET(LOOKUP(B), 1)\n",
        "\n",
        "# c = 2\n",
        "CREATE(C)\n",
        "SET(LOOKUP(C), 2)\n",
        "\n",
        "# a = b + c\n",
        "CREATE(A)\n",
        "SET(LOOKUP(A), SUM(GET(LOOKUP(B)), GET(LOOKUP(C))))\n",
        "\n",
        "# print(a)\n",
        "SHOW(GET(LOOKUP(A)))"
      ]
    },
    {
      "cell_type": "markdown",
      "metadata": {
        "id": "6O4aYOuyiFhT"
      },
      "source": [
        "# Mercurial Cores in Distributed Computing\n",
        "\n",
        "Multiple axes of randomness make detection or observation of fail-silent errors difficult; a task has to be allocated to the correct core on the correct machine in the correct configuration with the correct instruction, after a possible catalyst that is age and level of use, for the issue to occur.\n",
        "\n",
        "Below is an example of task distribution within a data centre where a random machine is randomly error-prone."
      ]
    },
    {
      "cell_type": "code",
      "execution_count": null,
      "metadata": {
        "id": "rK3WCwdZVXLz"
      },
      "outputs": [],
      "source": [
        "def random_chance():\n",
        "    return randint(0, 10) == 10\n",
        "\n",
        "# A Task is a set of the same instructions to perform for multiple inputs\n",
        "# that can produce parallelizable subtasks from itself so that work\n",
        "# can be done on multiple machines at once. Afterwards, it collates results.\n",
        "class Task:\n",
        "    def __init__(self, function, input):\n",
        "        self.function = function\n",
        "        self.input = input\n",
        "        self.num_subtasks = len(input)\n",
        "        self.results = [None] * self.num_subtasks\n",
        "        self.num_complete_subtasks = 0\n",
        "\n",
        "    def get_parellelizeable_subtask(self, n):\n",
        "        return (self.function, self.input[n])\n",
        "\n",
        "    def set_subtask_result(self, n, result):\n",
        "        self.results[n] = result\n",
        "        self.num_complete_subtasks += 1\n",
        "        if self.num_complete_subtasks == self.num_subtasks:\n",
        "            self.alert_all_subtasks_complete()\n",
        "\n",
        "    def alert_all_subtasks_complete(self):\n",
        "        print(\"Results: \", self.results)\n",
        "\n",
        "# A Machine does the actual computation.\n",
        "class Machine:\n",
        "    def __init__(self):\n",
        "        self.is_mercurial = False\n",
        "\n",
        "    def make_mercurial(self):\n",
        "        self.is_mercurial = True\n",
        "\n",
        "    def compute(self, function, input):\n",
        "        if self.is_mercurial and random_chance():\n",
        "            return input # the wrong answer\n",
        "        return function(input)\n",
        "\n",
        "# A DataCentre is a collection of machines that get delegated work\n",
        "# on some availability or resource or random basis.\n",
        "class DataCentre:\n",
        "    def __init__(self, num_machines = 3):\n",
        "        self.num_machines = num_machines\n",
        "        self.machines = [Machine()] * num_machines\n",
        "        self.machines[num_machines - 1].make_mercurial() # one bad machine\n",
        "        self.current_machine = 0\n",
        "\n",
        "    def get_random_machine(self):\n",
        "        n = randint(0, self.num_machines - 1)\n",
        "        return self.machines[n]\n",
        "\n",
        "    def distribute(self, task):\n",
        "        for n in range(task.num_subtasks):\n",
        "            machine = self.get_random_machine()\n",
        "            subtask_function, subtask_input = task.get_parellelizeable_subtask(n)\n",
        "            result = machine.compute(subtask_function, subtask_input)\n",
        "            task.set_subtask_result(n, result)"
      ]
    },
    {
      "cell_type": "code",
      "execution_count": null,
      "metadata": {
        "colab": {
          "base_uri": "https://localhost:8080/"
        },
        "id": "8ffkk4sgkb3X",
        "outputId": "2d6c437f-cd18-4921-dd64-7391e5a62632"
      },
      "outputs": [
        {
          "name": "stdout",
          "output_type": "stream",
          "text": [
            "Expected: [0, 2, 4, 6, 8, 10, 12, 14, 16, 18]\n",
            "Results:  [0, 2, 4, 6, 8, 5, 12, 14, 16, 18]\n"
          ]
        }
      ],
      "source": [
        "def example_function(x):\n",
        "    return x * 2\n",
        "\n",
        "example_input = [0, 1, 2, 3, 4, 5, 6, 7, 8, 9]\n",
        "print(\"Expected:\", [example_function(x) for x in example_input])\n",
        "\n",
        "task = Task(example_function, example_input)\n",
        "DataCentre().distribute(task)"
      ]
    },
    {
      "cell_type": "markdown",
      "metadata": {
        "id": "LlfhBzqP7S8O"
      },
      "source": [
        "# Extra Credit: Spectre\n",
        "\n",
        "Branch prediction leads to potential execution of instructions that should never be run. Instructions run this way were not subject to the same memory access protections because if the predicted branch didn't end up being correct, the results would be thrown away. So, of course, people conceived of a way to get information out of functionality that could not return results: observe the *time* it took to do certain checks."
      ]
    },
    {
      "cell_type": "code",
      "execution_count": null,
      "metadata": {
        "id": "QbnVp6kK7U5k"
      },
      "outputs": [],
      "source": [
        "from time import time\n",
        "\n",
        "protected_memory = [1, 0, 1, 1, 0, 1, 0, 0]\n",
        "num_bits = len(protected_memory)\n",
        "allowed_access = False\n",
        "\n",
        "def pipeline(condition, operation, arg):\n",
        "    result = operation(arg)\n",
        "    if condition:\n",
        "        return result\n",
        "    else:\n",
        "        return None\n",
        "\n",
        "def read_bit(n):\n",
        "    return protected_memory[n]"
      ]
    },
    {
      "cell_type": "code",
      "execution_count": null,
      "metadata": {
        "colab": {
          "base_uri": "https://localhost:8080/"
        },
        "id": "e0PqH_MXNk6a",
        "outputId": "ec9a3d5d-ad55-47b2-912c-08028f5f12cb"
      },
      "outputs": [
        {
          "name": "stdout",
          "output_type": "stream",
          "text": [
            "Memory: [1, 0, 1, 1, 0, 1, 0, 0]\n",
            "Read:   [None, None, None, None, None, None, None, None]\n"
          ]
        }
      ],
      "source": [
        "# attempting to access bits will yield blank results\n",
        "normal = []\n",
        "\n",
        "for n in range(num_bits):\n",
        "    bit = pipeline(allowed_access, read_bit, n)\n",
        "    normal.append(bit)\n",
        "\n",
        "print(\"Memory:\", protected_memory)\n",
        "print(\"Read:  \", normal)"
      ]
    },
    {
      "cell_type": "code",
      "execution_count": null,
      "metadata": {
        "id": "yW-3Sjh3Wu_H"
      },
      "outputs": [],
      "source": [
        "threshold = 0.001\n",
        "\n",
        "def long_task(): # in real Spectre, the slow operation was to access L4 cache\n",
        "    n = 1\n",
        "    for i in range(100):\n",
        "        for j in range(100):\n",
        "            for k in range(100):\n",
        "                n *= (i * j * k)\n",
        "    return\n",
        "\n",
        "def short_task(): # the short operation was a no-op\n",
        "    return\n",
        "\n",
        "def read_bit_spectre(n):\n",
        "    bit = protected_memory[n]\n",
        "    if bit == 1:\n",
        "        long_task()\n",
        "    else:\n",
        "        short_task()"
      ]
    },
    {
      "cell_type": "code",
      "execution_count": null,
      "metadata": {
        "colab": {
          "base_uri": "https://localhost:8080/"
        },
        "id": "2SECBINB7jI2",
        "outputId": "46a9bb87-64b2-4e9d-c9c6-406ebbd8f063"
      },
      "outputs": [
        {
          "name": "stdout",
          "output_type": "stream",
          "text": [
            "Memory:  [1, 0, 1, 1, 0, 1, 0, 0]\n",
            "Spectre: [1, 0, 1, 1, 0, 1, 0, 0]\n"
          ]
        }
      ],
      "source": [
        "# read inaccessible memory without ever returning a result\n",
        "spectre = []\n",
        "\n",
        "for n in range(num_bits):\n",
        "    start = time()\n",
        "    # run the operation but throw away result\n",
        "    pipeline(allowed_access, read_bit_spectre, n)\n",
        "    end = time()\n",
        "    elapsed = end - start\n",
        "    # instead observe time taken\n",
        "    bit = 1 if elapsed > threshold else 0\n",
        "    spectre.append(bit)\n",
        "\n",
        "print(\"Memory: \", protected_memory)\n",
        "print(\"Spectre:\", spectre)"
      ]
    },
    {
      "cell_type": "code",
      "execution_count": null,
      "metadata": {
        "id": "YgQrtl6DKMk_"
      },
      "outputs": [],
      "source": [
        "from time import sleep, time\n",
        "\n",
        "def read_bit(n):\n",
        "    bit = protected_memory[n]\n",
        "    if bit == 1:\n",
        "        # do something slow\n",
        "        sleep(0.1)\n",
        "        # (in irl Spectre, this was \"access L4 cache\")\n",
        "        return\n",
        "    else:\n",
        "        # do something fast\n",
        "        return\n",
        "\n",
        "# read inaccessible memory without ever returning a result\n",
        "def read_protected_memory():\n",
        "    result = []\n",
        "    for n in range(len(protected_memory)):\n",
        "        start = time()\n",
        "        # run the operation but throw away result\n",
        "        instruction(read_bit, n)\n",
        "        end = time()\n",
        "        elapsed = end - start\n",
        "        # instead observe time taken\n",
        "        bit = 1 if elapsed >= 0.01 else 0\n",
        "        result.append(bit)\n",
        "    return result\n"
      ]
    },
    {
      "cell_type": "code",
      "execution_count": null,
      "metadata": {
        "colab": {
          "base_uri": "https://localhost:8080/"
        },
        "id": "FSQM5s-wQW_t",
        "outputId": "d74d5aa7-5a0f-48fd-e5e6-31421fd64849"
      },
      "outputs": [
        {
          "name": "stdout",
          "output_type": "stream",
          "text": [
            "Result: [1, 0, 1, 1, 0, 1, 0, 0]\n"
          ]
        }
      ],
      "source": [
        "print(\"Result:\", read_protected_memory())"
      ]
    }
  ],
  "metadata": {
    "colab": {
      "provenance": []
    },
    "kernelspec": {
      "display_name": "Python 3",
      "name": "python3"
    },
    "language_info": {
      "name": "python"
    }
  },
  "nbformat": 4,
  "nbformat_minor": 0
}
