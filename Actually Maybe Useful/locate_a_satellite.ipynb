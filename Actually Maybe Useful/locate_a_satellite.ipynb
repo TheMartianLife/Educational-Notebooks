{
  "cells": [
    {
      "cell_type": "markdown",
      "metadata": {
        "id": "QLI7ZItmS-3v"
      },
      "source": [
        "Locate a Satellite"
      ]
    },
    {
      "cell_type": "code",
      "execution_count": null,
      "metadata": {
        "colab": {
          "base_uri": "https://localhost:8080/"
        },
        "id": "sWTUm-EzTkPJ",
        "outputId": "58514a7f-fe22-4953-e7be-7c1d17f349e5"
      },
      "outputs": [
        {
          "name": "stdout",
          "output_type": "stream",
          "text": [
            "Python 3.7.11\n"
          ]
        }
      ],
      "source": [
        "import requests # send POST data with HTTP request\n",
        "import ephem # friendly orbital calculations\n",
        "from pandas import read_csv # parse csv from URL response into searchable object\n",
        "from datetime import datetime, timedelta\n",
        "!python --version"
      ]
    },
    {
      "cell_type": "code",
      "execution_count": null,
      "metadata": {
        "id": "BfsDNVMayk1Y"
      },
      "outputs": [],
      "source": [
        "# For this task we need to hit the SpaceTrack API so you'll need to go to\n",
        "# https://www.space-track.org/auth/createAccount and create a login\n",
        "USERNAME = \"<email>\"\n",
        "PASSWORD = \"<password>\""
      ]
    },
    {
      "cell_type": "markdown",
      "metadata": {
        "id": "SYtvofGjVQLa"
      },
      "source": [
        "## Utility Functions"
      ]
    },
    {
      "cell_type": "code",
      "execution_count": null,
      "metadata": {
        "id": "z9r228oATF5e"
      },
      "outputs": [],
      "source": [
        "# don't know the code for an object you want to look at?\n",
        "# no worries! let's look at what we have available.\n",
        "\n",
        "# you can have a poke around yourself\n",
        "def fetch_satcat():\n",
        "    df = read_csv(\"https://celestrak.com/pub/satcat.csv\")\n",
        "    # remove objects no longer in orbit\n",
        "    df = df[df.DECAY_DATE.isnull()]\n",
        "    return df\n",
        "\n",
        "# or search for an object by name/details you know\n",
        "def search_satcat(value, attribute=\"OBJECT_NAME\", cat=None):\n",
        "    df = cat if cat is not None else fetch_satcat()\n",
        "    if attribute in df.columns:\n",
        "        return df[df[attribute] == value].iloc[0] # first match\n",
        "    return None"
      ]
    },
    {
      "cell_type": "markdown",
      "metadata": {
        "id": "3v271538V2_v"
      },
      "source": [
        "## Step-by-Step"
      ]
    },
    {
      "cell_type": "code",
      "execution_count": null,
      "metadata": {
        "colab": {
          "base_uri": "https://localhost:8080/"
        },
        "id": "K0OHRJv5S7B2",
        "outputId": "5b458aa4-315b-4417-a440-e206ee3b757a"
      },
      "outputs": [
        {
          "data": {
            "text/plain": [
              "OBJECT_NAME         ISS (ZARYA)\n",
              "OBJECT_ID             1998-067A\n",
              "NORAD_CAT_ID              25544\n",
              "OBJECT_TYPE                 PAY\n",
              "OPS_STATUS_CODE               +\n",
              "OWNER                       ISS\n",
              "LAUNCH_DATE          1998-11-20\n",
              "LAUNCH_SITE               TYMSC\n",
              "DECAY_DATE                  NaN\n",
              "PERIOD                    92.97\n",
              "INCLINATION               51.64\n",
              "APOGEE                      421\n",
              "PERIGEE                     419\n",
              "RCS                     399.052\n",
              "DATA_STATUS_CODE            NaN\n",
              "ORBIT_CENTER                 EA\n",
              "ORBIT_TYPE                  ORB\n",
              "Name: 25543, dtype: object"
            ]
          },
          "execution_count": 4,
          "metadata": {},
          "output_type": "execute_result"
        }
      ],
      "source": [
        "# PICK AN OBJECT YOU WANT TO TRACK\n",
        "\n",
        "# I've picked Vanguard 1 (the oldest know object still in orbit)\n",
        "OBJECT_NAME = \"ISS (ZARYA)\"\n",
        "\n",
        "# Let's find its attributes, particularly its NORAD ID\n",
        "attributes = search_satcat(OBJECT_NAME)\n",
        "norad_id = attributes.NORAD_CAT_ID\n",
        "\n",
        "# You can use this to have a look at the information available for your object\n",
        "attributes"
      ]
    },
    {
      "cell_type": "code",
      "execution_count": null,
      "metadata": {
        "colab": {
          "base_uri": "https://localhost:8080/"
        },
        "id": "DKRJjGgap74s",
        "outputId": "b4cd9b79-9ed8-45b4-b7ae-f866c510fe4a"
      },
      "outputs": [
        {
          "name": "stdout",
          "output_type": "stream",
          "text": [
            "Fetching most recent detection of object 25544...\n",
            "RESPONSE: OK (200)\n",
            "Most recent detection:\n",
            "\n",
            "0 ISS (ZARYA)\n",
            "1 25544U 98067A   21231.85950031  .00001072  00000-0  27662-4 0  9997\n",
            "2 25544  51.6440  27.8463 0001517 333.1303 175.6838 15.48918110298467\n",
            "\n"
          ]
        }
      ],
      "source": [
        "# GET MOST RECENT DETECTION OF THAT OBJECT\n",
        "\n",
        "def fetch_most_recent_detection(norad_id):\n",
        "    query = (\"https://www.space-track.org/basicspacedata/query/class/\"\n",
        "                f\"gp_history/NORAD_CAT_ID/{norad_id}/orderby/EPOCH%20desc/\"\n",
        "                f\"limit/1/format/3le\")\n",
        "    request = \"https://www.space-track.org/ajaxauth/login\"\n",
        "\n",
        "    # we have to include some variables into the POST request header\n",
        "    print(f\"Fetching most recent detection of object {norad_id}...\")\n",
        "    creds = {\"identity\": USERNAME, \"password\": PASSWORD, \"query\": query}\n",
        "    response = requests.post(request, data=creds)\n",
        "\n",
        "    # check for failure response\n",
        "    print(f\"RESPONSE: {response.reason} ({response.status_code})\")\n",
        "    # (HTTP success codes are 200-299)\n",
        "    if response.status_code // 100 != 2: return None\n",
        "\n",
        "    return response.text\n",
        "\n",
        "# Now actually do the thing\n",
        "detection = fetch_most_recent_detection(norad_id)\n",
        "print(f\"Most recent detection:\\n\\n{detection}\")"
      ]
    },
    {
      "cell_type": "code",
      "execution_count": null,
      "metadata": {
        "colab": {
          "base_uri": "https://localhost:8080/"
        },
        "id": "L_fPgPT60FF_",
        "outputId": "b7e1d7c5-6376-46ff-cfd8-f5f9ec9033fc"
      },
      "outputs": [
        {
          "name": "stdout",
          "output_type": "stream",
          "text": [
            "Object should currently be at -4.609999999999999°N, -163.34027777777777°E\n"
          ]
        }
      ],
      "source": [
        "# CALCULATE OBJECT POSITION AT EPOCH IN EARTH-CENTRIC CO-ORDINATES\n",
        "\n",
        "name, line1, line2 = detection.strip().split(\"\\n\")\n",
        "sat = ephem.readtle(name, line1, line2)\n",
        "sat.compute() # computes propagation for current moment in time\n",
        "\n",
        "def dms_to_decimal_degrees(dms):\n",
        "    string_val = f\"{dms}\"\n",
        "    d, m, s = tuple(string_val.split(\":\"))\n",
        "    num_d = float(d)\n",
        "    negative = (num_d < 0)\n",
        "    dd = abs(num_d) + (float(m) / 60) + (float(s) / 360)\n",
        "    return dd if not negative else -dd\n",
        "\n",
        "lat = dms_to_decimal_degrees(sat.sublat)\n",
        "lon = dms_to_decimal_degrees(sat.sublong)\n",
        "print(f\"Object should currently be at {lat}°N, {lon}°E\")"
      ]
    },
    {
      "cell_type": "code",
      "execution_count": null,
      "metadata": {
        "colab": {
          "base_uri": "https://localhost:8080/"
        },
        "id": "aJ2HLqQ-0LEM",
        "outputId": "231d83a3-9980-42b2-8581-89f009d6ca2c"
      },
      "outputs": [
        {
          "name": "stdout",
          "output_type": "stream",
          "text": [
            "Object should be at 41.93694444444444°N, 43.062222222222225°E at 2021-08-20 03:58:50.735546\n"
          ]
        }
      ],
      "source": [
        "# CALCULATE FUTURE TRAJECTORY GIVEN VARIOUS FORCES\n",
        "\n",
        "minutes_in_future = 60\n",
        "EPOCH_FORMAT = '%Y-%m-%d %H:%M:%S.%f'\n",
        "new_time = datetime.now() + timedelta(minutes=minutes_in_future)\n",
        "new_time_string = new_time.strftime(EPOCH_FORMAT)\n",
        "new_epoch = ephem.date(new_time_string)\n",
        "sat.compute(new_epoch)\n",
        "\n",
        "lat = dms_to_decimal_degrees(sat.sublat)\n",
        "lon = dms_to_decimal_degrees(sat.sublong)\n",
        "print(f\"Object should be at {lat}°N, {lon}°E at {new_time_string}\")"
      ]
    }
  ],
  "metadata": {
    "colab": {
      "provenance": []
    },
    "kernelspec": {
      "display_name": "Python 3",
      "name": "python3"
    }
  },
  "nbformat": 4,
  "nbformat_minor": 0
}
