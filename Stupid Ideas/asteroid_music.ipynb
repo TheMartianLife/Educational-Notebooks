{
  "nbformat": 4,
  "nbformat_minor": 0,
  "metadata": {
    "colab": {
      "private_outputs": true,
      "provenance": []
    },
    "kernelspec": {
      "name": "python3",
      "display_name": "Python 3"
    },
    "language_info": {
      "name": "python"
    }
  },
  "cells": [
    {
      "cell_type": "markdown",
      "source": [
        "Someone once asked if you could make generative music from the shape of an asteroid. I said you could make generative music from anything--the intermediate form is just numbers--so here is one way to translate asteroids to numbers.\n",
        "\n",
        "The idea was to use a visual representation of power density from planetary radar scans, then map to some form of tone or magnitude. That said, truly random sounds rarely sound musical to the human ear, so there would probably be heavy looping and post-processing involved."
      ],
      "metadata": {
        "id": "d_72acB15SIx"
      }
    },
    {
      "cell_type": "code",
      "source": [
        "# change the values here to change output\n",
        "IMAGE_URL = \"https://www.nasa.gov/sites/default/files/thumbnails/image/e_pia24564-crop-1041.jpg\"\n",
        "OUTFILE = \"/content/asteroid_sound.wav\""
      ],
      "metadata": {
        "id": "acRLqstlECb9"
      },
      "execution_count": null,
      "outputs": []
    },
    {
      "cell_type": "code",
      "execution_count": null,
      "metadata": {
        "id": "aengJ9dI5PCE"
      },
      "outputs": [],
      "source": [
        "# import code dependencies\n",
        "from PIL import Image\n",
        "from io import BytesIO\n",
        "import pandas as pd\n",
        "import numpy as np\n",
        "from scipy.io.wavfile import write\n",
        "from IPython.display import Audio\n",
        "import requests"
      ]
    },
    {
      "cell_type": "code",
      "source": [
        "# download image, show what it looks like visually\n",
        "asteroid_image = Image.open(BytesIO(requests.get(IMAGE_URL).content))\n",
        "asteroid_image = asteroid_image.convert(\"L\") # convert to grayscale\n",
        "asteroid_image.show()"
      ],
      "metadata": {
        "id": "TC3oMa-z5UJe"
      },
      "execution_count": null,
      "outputs": []
    },
    {
      "cell_type": "code",
      "source": [
        "# trace the image left to right, pixel column by pixel column\n",
        "# and extract some properties that can be converted into a sound\n",
        "\n",
        "# here, I have found the highest power point (brightest pixel) to\n",
        "# represent the face shape of the asteroid, and then taken a measure\n",
        "# of deviation (gradient smear length) to represent the depth\n",
        "asteroid_series = []\n",
        "for x in range(asteroid_image.width):\n",
        "    face_y = 0.0\n",
        "    y_smear = 0.0\n",
        "    for y in range(asteroid_image.height):\n",
        "        pixel = asteroid_image.get_pixel(x, y)\n",
        "        asteroid_series ="
      ],
      "metadata": {
        "id": "4fmO6DDG5XtV"
      },
      "execution_count": null,
      "outputs": []
    },
    {
      "cell_type": "code",
      "source": [
        "# now I am going to play out this series as a sound, by using\n",
        "# these values as pitch and ...\n",
        "def data_to_note(data):\n",
        "\n",
        "    return\n",
        "\n",
        "def play_as_sound(data_series, bpm=120):\n",
        "    note_duration = bpm * 4\n",
        "    song = []\n",
        "    for datum in data_series:\n",
        "        song.append((data_to_note(datum), note_duration))\n",
        "    synth.make_wav(song, fn=OUTFILE, leg_stac=0.7, bpm=note_duration)\n",
        "    playsound(OUTFILE)\n",
        "    return song\n",
        "\n",
        "def plot_sound(sound_series):\n",
        "    print(sound_series)\n",
        "    return\n",
        "\n",
        "plot_sound(play_as_sound(asteroid_series))"
      ],
      "metadata": {
        "id": "VN65oK4753HP"
      },
      "execution_count": null,
      "outputs": []
    },
    {
      "cell_type": "code",
      "source": [
        "def sonify(data_series, bpm=120):\n",
        "    rate = 44100\n",
        "    scaled = np.int16(data_series / np.max(np.abs(data_series)) * 32767)\n",
        "    write(OUTFILE, rate, scaled)\n",
        "    display(Audio(OUTFILE, autoplay=True))\n",
        "    return scaled"
      ],
      "metadata": {
        "id": "2KyiStu_SYD0"
      },
      "execution_count": null,
      "outputs": []
    },
    {
      "cell_type": "code",
      "source": [
        "# first, let's check if this way of making sound even works\n",
        "beats = ([0.0] * 10000) + ([0.5] * 10000) + ([0.9] * 10000)\n",
        "print(sonify(beats))\n",
        "# weird shrieking? well, this isn't going to sound good."
      ],
      "metadata": {
        "id": "gSKyTvOlSywT"
      },
      "execution_count": null,
      "outputs": []
    }
  ]
}